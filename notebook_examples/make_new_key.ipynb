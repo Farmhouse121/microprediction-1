{
  "nbformat": 4,
  "nbformat_minor": 0,
  "metadata": {
    "colab": {
      "name": "make_new_key.ipynb",
      "provenance": [],
      "authorship_tag": "ABX9TyOEveRKnNMeo97ACPNmuoG2",
      "include_colab_link": true
    },
    "kernelspec": {
      "name": "python3",
      "display_name": "Python 3"
    },
    "language_info": {
      "name": "python"
    }
  },
  "cells": [
    {
      "cell_type": "markdown",
      "metadata": {
        "id": "view-in-github",
        "colab_type": "text"
      },
      "source": [
        "<a href=\"https://colab.research.google.com/github/microprediction/microprediction/blob/master/notebook_examples/make_new_key.ipynb\" target=\"_parent\"><img src=\"https://colab.research.google.com/assets/colab-badge.svg\" alt=\"Open In Colab\"/></a>"
      ]
    },
    {
      "cell_type": "code",
      "metadata": {
        "id": "jLjWf4JSwhvQ"
      },
      "source": [
        "!pip uninstall numpy -y\n",
        "!pip install microconventions"
      ],
      "execution_count": null,
      "outputs": []
    },
    {
      "cell_type": "code",
      "metadata": {
        "id": "b5akpDnewqXn"
      },
      "source": [
        "from microconventions import new_key\n",
        "new_key(difficulty=11) # And be patient!"
      ],
      "execution_count": null,
      "outputs": []
    }
  ]
}
