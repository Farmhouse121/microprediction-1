
Replaced by [New_Key_Fix.ipynb](https://github.com/microprediction/microprediction/edit/master/notebook_examples/New_Key.ipynb)
