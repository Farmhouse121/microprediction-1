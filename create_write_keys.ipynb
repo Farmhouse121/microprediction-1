{
  "nbformat": 4,
  "nbformat_minor": 0,
  "metadata": {
    "colab": {
      "name": "create_write_keys.ipynb",
      "provenance": [],
      "authorship_tag": "ABX9TyMge2iOoxw/4omHGaR5/UcS",
      "include_colab_link": true
    },
    "kernelspec": {
      "name": "python3",
      "display_name": "Python 3"
    }
  },
  "cells": [
    {
      "cell_type": "markdown",
      "metadata": {
        "id": "view-in-github",
        "colab_type": "text"
      },
      "source": [
        "<a href=\"https://colab.research.google.com/github/microprediction/microprediction/blob/master/create_write_keys.ipynb\" target=\"_parent\"><img src=\"https://colab.research.google.com/assets/colab-badge.svg\" alt=\"Open In Colab\"/></a>"
      ]
    },
    {
      "cell_type": "code",
      "metadata": {
        "id": "QCgJ1PzvDwfN"
      },
      "source": [
        "!pip install microconventions"
      ],
      "execution_count": null,
      "outputs": []
    },
    {
      "cell_type": "code",
      "metadata": {
        "id": "HaT6PJira4ol",
        "colab": {
          "base_uri": "https://localhost:8080/"
        },
        "outputId": "3bbedc97-4315-4c5e-b895-e5c7465c4eb9"
      },
      "source": [
        "from microconventions import new_key, animal_from_key\n",
        "for difficulty in range(8,13):\n",
        "    print('Burning a key of difficulty '+str(difficulty))\n",
        "    write_key = new_key(difficulty=difficulty)\n",
        "    print({'write_key':write_key,'nom de plume':animal_from_key(write_key)})\n",
        "\n"
      ],
      "execution_count": null,
      "outputs": [
        {
          "output_type": "stream",
          "name": "stdout",
          "text": [
            "Burning a key of difficulty 8\n",
            "{'write_key': '423d26a1a82935b73ad27c519d3ca7f2', 'nom de plume': 'Mal Moose'}\n",
            "Burning a key of difficulty 9\n"
          ]
        }
      ]
    }
  ]
}