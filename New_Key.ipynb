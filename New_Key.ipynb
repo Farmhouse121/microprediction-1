{
  "nbformat": 4,
  "nbformat_minor": 0,
  "metadata": {
    "colab": {
      "name": "New_Key.ipynb",
      "provenance": [],
      "authorship_tag": "ABX9TyOMYdP0LNmsw1j3bMQs5FAV",
      "include_colab_link": true
    },
    "kernelspec": {
      "name": "python3",
      "display_name": "Python 3"
    }
  },
  "cells": [
    {
      "cell_type": "markdown",
      "metadata": {
        "id": "view-in-github",
        "colab_type": "text"
      },
      "source": [
        "<a href=\"https://colab.research.google.com/github/microprediction/microprediction/blob/master/New_Key.ipynb\" target=\"_parent\"><img src=\"https://colab.research.google.com/assets/colab-badge.svg\" alt=\"Open In Colab\"/></a>"
      ]
    },
    {
      "cell_type": "code",
      "metadata": {
        "id": "QCgJ1PzvDwfN"
      },
      "source": [
        "# Uninstall numpy first when using Colab, or old tz_info may cause issues\n",
        "!pip uninstall numpy\n",
        "!pip install microprediction"
      ],
      "execution_count": null,
      "outputs": []
    },
    {
      "cell_type": "code",
      "metadata": {
        "id": "L4D7JxtWac_M",
        "outputId": "cbc34d6a-637a-4256-edcf-975026c2b7f0",
        "colab": {
          "base_uri": "https://localhost:8080/"
        }
      },
      "source": [
        "!pip freeze | grep numpy"
      ],
      "execution_count": 3,
      "outputs": [
        {
          "output_type": "stream",
          "name": "stdout",
          "text": [
            "numpy==1.21.3\n"
          ]
        }
      ]
    },
    {
      "cell_type": "markdown",
      "metadata": {
        "id": "dazKbox3bCwt"
      },
      "source": [
        "Make your key (takes a while)"
      ]
    },
    {
      "cell_type": "code",
      "metadata": {
        "id": "HaT6PJira4ol"
      },
      "source": [
        "from microprediction import new_key\n",
        "write_key = new_key(difficulty=11)\n",
        "print(write_key)"
      ],
      "execution_count": null,
      "outputs": []
    },
    {
      "cell_type": "markdown",
      "metadata": {
        "id": "mnYprfG7a9H-"
      },
      "source": [
        "Or make a key with more bankruptcy leniency"
      ]
    },
    {
      "cell_type": "code",
      "metadata": {
        "id": "VI4g5AuSD7vL"
      },
      "source": [
        "from microprediction import new_key\n",
        "write_key = new_key(difficulty=12)\n",
        "print(write_key)"
      ],
      "execution_count": null,
      "outputs": []
    }
  ]
}